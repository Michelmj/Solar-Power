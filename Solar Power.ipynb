{
 "cells": [
  {
   "cell_type": "code",
   "execution_count": 27,
   "metadata": {},
   "outputs": [
    {
     "data": {
      "text/html": [
       "        <script type=\"text/javascript\">\n",
       "        window.PlotlyConfig = {MathJaxConfig: 'local'};\n",
       "        if (window.MathJax) {MathJax.Hub.Config({SVG: {font: \"STIX-Web\"}});}\n",
       "        if (typeof require !== 'undefined') {\n",
       "        require.undef(\"plotly\");\n",
       "        requirejs.config({\n",
       "            paths: {\n",
       "                'plotly': ['https://cdn.plot.ly/plotly-latest.min']\n",
       "            }\n",
       "        });\n",
       "        require(['plotly'], function(Plotly) {\n",
       "            window._Plotly = Plotly;\n",
       "        });\n",
       "        }\n",
       "        </script>\n",
       "        "
      ]
     },
     "metadata": {},
     "output_type": "display_data"
    }
   ],
   "source": [
    "import numpy as np\n",
    "import pandas as pd\n",
    "import matplotlib.pyplot as plt\n",
    "import seaborn as sns\n",
    "import datetime\n",
    "from datetime import date, time\n",
    "%matplotlib inline\n",
    "from plotly.offline import init_notebook_mode, iplot\n",
    "init_notebook_mode(connected = True)\n",
    "import plotly.graph_objs as go"
   ]
  },
  {
   "cell_type": "markdown",
   "metadata": {},
   "source": [
    "# Loading Dataset"
   ]
  },
  {
   "cell_type": "code",
   "execution_count": 2,
   "metadata": {},
   "outputs": [],
   "source": [
    "sp1 = pd.read_csv('C:/Users/Delmafia91/Downloads/SolarP1.csv')\n",
    "sp2 = pd.read_csv('C:/Users/Delmafia91/Downloads/SolarP2.csv')\n",
    "sr1 = pd.read_csv('C:/Users/Delmafia91/Downloads/Sensor1.csv')\n",
    "sr2 = pd.read_csv('C:/Users/Delmafia91/Downloads/Sensor2.csv')"
   ]
  },
  {
   "cell_type": "markdown",
   "metadata": {},
   "source": [
    "# Checking for missing values"
   ]
  },
  {
   "cell_type": "code",
   "execution_count": 6,
   "metadata": {
    "collapsed": true
   },
   "outputs": [
    {
     "name": "stdout",
     "output_type": "stream",
     "text": [
      "DATE_TIME      0\n",
      "PLANT_ID       0\n",
      "SOURCE_KEY     0\n",
      "DC_POWER       0\n",
      "AC_POWER       0\n",
      "DAILY_YIELD    0\n",
      "TOTAL_YIELD    0\n",
      "dtype: int64\n",
      "DATE_TIME      0\n",
      "PLANT_ID       0\n",
      "SOURCE_KEY     0\n",
      "DC_POWER       0\n",
      "AC_POWER       0\n",
      "DAILY_YIELD    0\n",
      "TOTAL_YIELD    0\n",
      "dtype: int64\n",
      "DATE_TIME              0\n",
      "PLANT_ID               0\n",
      "SOURCE_KEY             0\n",
      "AMBIENT_TEMPERATURE    0\n",
      "MODULE_TEMPERATURE     0\n",
      "IRRADIATION            0\n",
      "dtype: int64\n",
      "DATE_TIME              0\n",
      "PLANT_ID               0\n",
      "SOURCE_KEY             0\n",
      "AMBIENT_TEMPERATURE    0\n",
      "MODULE_TEMPERATURE     0\n",
      "IRRADIATION            0\n",
      "dtype: int64\n"
     ]
    }
   ],
   "source": [
    "mv = sp1.isnull().sum()\n",
    "miv = sp2.isnull().sum()\n",
    "missv = sr1.isnull().sum()\n",
    "missingv = sr2.isnull().sum()\n",
    "\n",
    "print(mv)\n",
    "print(miv)\n",
    "print(missv)\n",
    "print(missingv)"
   ]
  },
  {
   "cell_type": "code",
   "execution_count": 4,
   "metadata": {
    "collapsed": true
   },
   "outputs": [
    {
     "name": "stdout",
     "output_type": "stream",
     "text": [
      "          DATE_TIME  PLANT_ID       SOURCE_KEY  DC_POWER  AC_POWER  \\\n",
      "0  15-05-2020 00:00   4135001  1BY6WEcLGh8j5v7       0.0       0.0   \n",
      "1  15-05-2020 00:00   4135001  1IF53ai7Xc0U56Y       0.0       0.0   \n",
      "2  15-05-2020 00:00   4135001  3PZuoBAID5Wc2HD       0.0       0.0   \n",
      "3  15-05-2020 00:00   4135001  7JYdWkrLSPkdwr4       0.0       0.0   \n",
      "4  15-05-2020 00:00   4135001  McdE0feGgRqW7Ca       0.0       0.0   \n",
      "\n",
      "   DAILY_YIELD  TOTAL_YIELD  \n",
      "0          0.0    6259559.0  \n",
      "1          0.0    6183645.0  \n",
      "2          0.0    6987759.0  \n",
      "3          0.0    7602960.0  \n",
      "4          0.0    7158964.0  \n",
      "        DATE_TIME  PLANT_ID       SOURCE_KEY  DC_POWER  AC_POWER  DAILY_YIELD  \\\n",
      "0  5/15/2020 0:00   4136001  4UPUqMRk7TRMgml       0.0       0.0  9425.000000   \n",
      "1  5/15/2020 0:00   4136001  81aHJ1q11NBPMrL       0.0       0.0     0.000000   \n",
      "2  5/15/2020 0:00   4136001  9kRcWv60rDACzjR       0.0       0.0  3075.333333   \n",
      "3  5/15/2020 0:00   4136001  Et9kgGMDl729KT4       0.0       0.0   269.933333   \n",
      "4  5/15/2020 0:00   4136001  IQ2d7wF4YD8zU1Q       0.0       0.0  3177.000000   \n",
      "\n",
      "    TOTAL_YIELD  \n",
      "0  2.429011e+06  \n",
      "1  1.215279e+09  \n",
      "2  2.247720e+09  \n",
      "3  1.704250e+06  \n",
      "4  1.994153e+07  \n",
      "        DATE_TIME  PLANT_ID       SOURCE_KEY  AMBIENT_TEMPERATURE  \\\n",
      "0  5/15/2020 0:00   4135001  HmiyD2TTLFNqkNe            25.184316   \n",
      "1  5/15/2020 0:15   4135001  HmiyD2TTLFNqkNe            25.084589   \n",
      "2  5/15/2020 0:30   4135001  HmiyD2TTLFNqkNe            24.935753   \n",
      "3  5/15/2020 0:45   4135001  HmiyD2TTLFNqkNe            24.846130   \n",
      "4  5/15/2020 1:00   4135001  HmiyD2TTLFNqkNe            24.621525   \n",
      "\n",
      "   MODULE_TEMPERATURE  IRRADIATION  \n",
      "0           22.857507          0.0  \n",
      "1           22.761668          0.0  \n",
      "2           22.592306          0.0  \n",
      "3           22.360852          0.0  \n",
      "4           22.165423          0.0  \n",
      "        DATE_TIME  PLANT_ID       SOURCE_KEY  AMBIENT_TEMPERATURE  \\\n",
      "0  5/15/2020 0:00   4136001  iq8k7ZNt4Mwm3w0            27.004764   \n",
      "1  5/15/2020 0:15   4136001  iq8k7ZNt4Mwm3w0            26.880811   \n",
      "2  5/15/2020 0:30   4136001  iq8k7ZNt4Mwm3w0            26.682055   \n",
      "3  5/15/2020 0:45   4136001  iq8k7ZNt4Mwm3w0            26.500589   \n",
      "4  5/15/2020 1:00   4136001  iq8k7ZNt4Mwm3w0            26.596148   \n",
      "\n",
      "   MODULE_TEMPERATURE  IRRADIATION  \n",
      "0           25.060789          0.0  \n",
      "1           24.421869          0.0  \n",
      "2           24.427290          0.0  \n",
      "3           24.420678          0.0  \n",
      "4           25.088210          0.0  \n"
     ]
    }
   ],
   "source": [
    "print(sp1.head())\n",
    "print(sp2.head())\n",
    "print(sr1.head())\n",
    "print(sr2.head())"
   ]
  },
  {
   "cell_type": "code",
   "execution_count": 7,
   "metadata": {},
   "outputs": [
    {
     "name": "stdout",
     "output_type": "stream",
     "text": [
      "(68778, 7)\n",
      "(67698, 7)\n",
      "(3182, 6)\n",
      "(3259, 6)\n"
     ]
    }
   ],
   "source": [
    "print(sp1.shape)\n",
    "print(sp2.shape)\n",
    "print(sr1.shape)\n",
    "print(sr2.shape)"
   ]
  },
  {
   "cell_type": "code",
   "execution_count": 14,
   "metadata": {},
   "outputs": [
    {
     "data": {
      "text/plain": [
       "dtype('O')"
      ]
     },
     "execution_count": 14,
     "metadata": {},
     "output_type": "execute_result"
    }
   ],
   "source": [
    "sp1['DATE_TIME'].dtype"
   ]
  },
  {
   "cell_type": "code",
   "execution_count": 15,
   "metadata": {},
   "outputs": [
    {
     "data": {
      "text/plain": [
       "0    15-05-2020 00:00\n",
       "1    15-05-2020 00:00\n",
       "2    15-05-2020 00:00\n",
       "3    15-05-2020 00:00\n",
       "4    15-05-2020 00:00\n",
       "Name: DATE_TIME, dtype: object"
      ]
     },
     "execution_count": 15,
     "metadata": {},
     "output_type": "execute_result"
    }
   ],
   "source": [
    "sp1['DATE_TIME'].head()"
   ]
  },
  {
   "cell_type": "code",
   "execution_count": 18,
   "metadata": {},
   "outputs": [],
   "source": [
    "sp1['DATE_TIME'] = pd.to_datetime(sp1['DATE_TIME'], \n",
    "                                 infer_datetime_format = True)"
   ]
  },
  {
   "cell_type": "code",
   "execution_count": 19,
   "metadata": {},
   "outputs": [
    {
     "data": {
      "text/plain": [
       "0   2020-05-15\n",
       "1   2020-05-15\n",
       "2   2020-05-15\n",
       "3   2020-05-15\n",
       "4   2020-05-15\n",
       "Name: DATE_TIME, dtype: datetime64[ns]"
      ]
     },
     "execution_count": 19,
     "metadata": {},
     "output_type": "execute_result"
    }
   ],
   "source": [
    "sp1['DATE_TIME'].head()"
   ]
  },
  {
   "cell_type": "code",
   "execution_count": 20,
   "metadata": {},
   "outputs": [],
   "source": [
    "sp1['DATE_TIME'] = sp1['DATE_TIME'].apply(lambda x:x.date())"
   ]
  },
  {
   "cell_type": "code",
   "execution_count": null,
   "metadata": {},
   "outputs": [],
   "source": []
  }
 ],
 "metadata": {
  "kernelspec": {
   "display_name": "Python 3",
   "language": "python",
   "name": "python3"
  },
  "language_info": {
   "codemirror_mode": {
    "name": "ipython",
    "version": 3
   },
   "file_extension": ".py",
   "mimetype": "text/x-python",
   "name": "python",
   "nbconvert_exporter": "python",
   "pygments_lexer": "ipython3",
   "version": "3.7.4"
  }
 },
 "nbformat": 4,
 "nbformat_minor": 2
}
